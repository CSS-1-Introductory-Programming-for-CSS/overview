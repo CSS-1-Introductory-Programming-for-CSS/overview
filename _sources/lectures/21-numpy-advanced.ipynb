{
 "cells": [
  {
   "cell_type": "markdown",
   "id": "357a45b3",
   "metadata": {
    "slideshow": {
     "slide_type": "slide"
    }
   },
   "source": [
    "# Advanced operations with `numpy`"
   ]
  },
  {
   "cell_type": "markdown",
   "id": "f0ba81c4",
   "metadata": {
    "slideshow": {
     "slide_type": "slide"
    }
   },
   "source": [
    "## Goals of this lecture\n",
    "\n",
    "( ... )"
   ]
  },
  {
   "cell_type": "markdown",
   "id": "bc638f5c",
   "metadata": {
    "slideshow": {
     "slide_type": "slide"
    }
   },
   "source": [
    "NEXT:\n",
    "\n",
    "- Vector arithmetic:\n",
    "  - `mean`, `median`, etc.\n",
    "  - Show difference in time (%timeit)\n",
    "- Figuring out which elements are equal to a value.\n",
    "  - `np.where`\n",
    "  - `np.argmax`, etc.\n",
    "- `reshape`, etc.\n",
    "- Other useful functions (maybe pt. 2?)\n",
    "  - `np.ones`\n",
    "  - `np.zeros`\n"
   ]
  },
  {
   "cell_type": "code",
   "execution_count": null,
   "id": "505114d3",
   "metadata": {},
   "outputs": [],
   "source": []
  }
 ],
 "metadata": {
  "kernelspec": {
   "display_name": "Python 3 (ipykernel)",
   "language": "python",
   "name": "python3"
  },
  "language_info": {
   "codemirror_mode": {
    "name": "ipython",
    "version": 3
   },
   "file_extension": ".py",
   "mimetype": "text/x-python",
   "name": "python",
   "nbconvert_exporter": "python",
   "pygments_lexer": "ipython3",
   "version": "3.9.12"
  }
 },
 "nbformat": 4,
 "nbformat_minor": 5
}
