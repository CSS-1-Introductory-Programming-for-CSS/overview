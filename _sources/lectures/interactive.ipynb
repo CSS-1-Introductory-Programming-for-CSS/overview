{
 "cells": [
  {
   "cell_type": "code",
   "execution_count": 4,
   "id": "0f22f3be",
   "metadata": {},
   "outputs": [],
   "source": [
    "with open(\"data/hamlet.txt\") as f:\n",
    "    book = f.read()"
   ]
  },
  {
   "cell_type": "code",
   "execution_count": 5,
   "id": "07db14f3",
   "metadata": {},
   "outputs": [
    {
     "data": {
      "text/plain": [
       "196403"
      ]
     },
     "execution_count": 5,
     "metadata": {},
     "output_type": "execute_result"
    }
   ],
   "source": [
    "len(book)"
   ]
  },
  {
   "cell_type": "code",
   "execution_count": 7,
   "id": "a77833ee",
   "metadata": {},
   "outputs": [
    {
     "data": {
      "text/plain": [
       "'the tragedy of hamlet, prince of denmark   by will'"
      ]
     },
     "execution_count": 7,
     "metadata": {},
     "output_type": "execute_result"
    }
   ],
   "source": [
    "# We should also clean up all those *newline* characters.\n",
    "book_str = book.replace(\"\\n\", \" \")\n",
    "# To make it easier for later, we can also turn it into lowercase\n",
    "book_str = book_str.lower()\n",
    "book_str[0:50]"
   ]
  },
  {
   "cell_type": "code",
   "execution_count": 14,
   "id": "9a219131",
   "metadata": {},
   "outputs": [],
   "source": [
    "# Now, use split to separate into words\n",
    "book_words = book_str.split()"
   ]
  },
  {
   "cell_type": "code",
   "execution_count": 18,
   "id": "a8bb212c",
   "metadata": {},
   "outputs": [
    {
     "data": {
      "text/plain": [
       "['power',\n",
       " 'to',\n",
       " 'charm,',\n",
       " 'so',\n",
       " \"hallow'd\",\n",
       " 'and',\n",
       " 'so',\n",
       " 'gracious',\n",
       " 'is',\n",
       " 'the']"
      ]
     },
     "execution_count": 18,
     "metadata": {},
     "output_type": "execute_result"
    }
   ],
   "source": [
    "book_words[1500:1510]"
   ]
  },
  {
   "cell_type": "code",
   "execution_count": 12,
   "id": "7503ecfc",
   "metadata": {},
   "outputs": [
    {
     "data": {
      "text/plain": [
       "7251"
      ]
     },
     "execution_count": 12,
     "metadata": {},
     "output_type": "execute_result"
    }
   ],
   "source": [
    "len(set(book_words))"
   ]
  },
  {
   "cell_type": "code",
   "execution_count": 13,
   "id": "60e19ed8",
   "metadata": {},
   "outputs": [
    {
     "data": {
      "text/plain": [
       "32724"
      ]
     },
     "execution_count": 13,
     "metadata": {},
     "output_type": "execute_result"
    }
   ],
   "source": [
    "len(book_words)"
   ]
  },
  {
   "cell_type": "code",
   "execution_count": 19,
   "id": "9a017444",
   "metadata": {},
   "outputs": [],
   "source": [
    "word_counts = {}\n",
    "for w in book_words:\n",
    "    if w not in word_counts:\n",
    "        word_counts[w] = 0\n",
    "    word_counts[w] += 1"
   ]
  },
  {
   "cell_type": "code",
   "execution_count": 21,
   "id": "d3ed084b",
   "metadata": {},
   "outputs": [
    {
     "data": {
      "text/plain": [
       "1095"
      ]
     },
     "execution_count": 21,
     "metadata": {},
     "output_type": "execute_result"
    }
   ],
   "source": [
    "word_counts['the']"
   ]
  },
  {
   "cell_type": "code",
   "execution_count": 22,
   "id": "1bfd0add",
   "metadata": {},
   "outputs": [
    {
     "data": {
      "text/plain": [
       "11"
      ]
     },
     "execution_count": 22,
     "metadata": {},
     "output_type": "execute_result"
    }
   ],
   "source": [
    "word_counts['question']"
   ]
  },
  {
   "cell_type": "code",
   "execution_count": 51,
   "id": "c0c6cd52",
   "metadata": {},
   "outputs": [],
   "source": [
    "key_with_highest_value = None\n",
    "max_count = 0\n",
    "for word, count in word_counts.items():\n",
    "    # If this word frequency > max_count\n",
    "    if count > max_count:\n",
    "        # Set new \"highest word\" to this word\n",
    "        key_with_highest_value = word\n",
    "        max_count = count"
   ]
  },
  {
   "cell_type": "code",
   "execution_count": 53,
   "id": "dc114c56",
   "metadata": {},
   "outputs": [
    {
     "data": {
      "text/plain": [
       "'the'"
      ]
     },
     "execution_count": 53,
     "metadata": {},
     "output_type": "execute_result"
    }
   ],
   "source": [
    "key_with_highest_value"
   ]
  },
  {
   "cell_type": "markdown",
   "id": "44b2f8a5",
   "metadata": {},
   "source": [
    "### Json files"
   ]
  },
  {
   "cell_type": "code",
   "execution_count": 69,
   "id": "6486a9cd",
   "metadata": {},
   "outputs": [],
   "source": [
    "import json"
   ]
  },
  {
   "cell_type": "code",
   "execution_count": 78,
   "id": "1f14d43c",
   "metadata": {},
   "outputs": [],
   "source": [
    "## As with normal .txt. files, we use \"open\" to open the target file\n",
    "with open(\"data/school.json\", \"r\") as fp:\n",
    "    ## use json.load to load as dict\n",
    "    info = json.load(fp)"
   ]
  },
  {
   "cell_type": "code",
   "execution_count": 82,
   "id": "e5ade61a",
   "metadata": {},
   "outputs": [
    {
     "data": {
      "text/plain": [
       "'University of California'"
      ]
     },
     "execution_count": 82,
     "metadata": {},
     "output_type": "execute_result"
    }
   ],
   "source": [
    "info['Affiliation']"
   ]
  },
  {
   "cell_type": "code",
   "execution_count": null,
   "id": "975082c4",
   "metadata": {},
   "outputs": [],
   "source": []
  },
  {
   "cell_type": "code",
   "execution_count": 17,
   "id": "f109b045",
   "metadata": {},
   "outputs": [],
   "source": [
    "def is_palindrome(word):\n",
    "    \n",
    "    ### Make word lowercase\n",
    "    ### Replace spaces in the word\n",
    "    \n",
    "    left = 0\n",
    "    right = len(word) - 1\n",
    "    \n",
    "    while left <= right:\n",
    "        print(\"{l1} == {l2}?\".format(l1 = word[left],\n",
    "                                    l2 = word[right]))\n",
    "        \n",
    "        if word[left] != word[right]:\n",
    "            return False\n",
    "        \n",
    "        left += 1\n",
    "        right -= 1\n",
    "    \n",
    "    return True"
   ]
  },
  {
   "cell_type": "code",
   "execution_count": 23,
   "id": "d7bdb1e0",
   "metadata": {},
   "outputs": [
    {
     "name": "stdout",
     "output_type": "stream",
     "text": [
      "b == g?\n"
     ]
    },
    {
     "data": {
      "text/plain": [
       "False"
      ]
     },
     "execution_count": 23,
     "metadata": {},
     "output_type": "execute_result"
    }
   ],
   "source": [
    "is_palindrome(\"bag\")"
   ]
  },
  {
   "cell_type": "code",
   "execution_count": 25,
   "id": "920559df",
   "metadata": {},
   "outputs": [
    {
     "data": {
      "text/plain": [
       "'acat'"
      ]
     },
     "execution_count": 25,
     "metadata": {},
     "output_type": "execute_result"
    }
   ],
   "source": [
    "\"a cat\".replace(\" \", \"\")"
   ]
  },
  {
   "cell_type": "code",
   "execution_count": null,
   "id": "0766b56e",
   "metadata": {},
   "outputs": [],
   "source": []
  },
  {
   "cell_type": "code",
   "execution_count": null,
   "id": "e783d9fd",
   "metadata": {},
   "outputs": [],
   "source": []
  },
  {
   "cell_type": "code",
   "execution_count": null,
   "id": "2cbe02f4",
   "metadata": {},
   "outputs": [],
   "source": []
  },
  {
   "cell_type": "code",
   "execution_count": null,
   "id": "eb4a3ef9",
   "metadata": {},
   "outputs": [],
   "source": []
  }
 ],
 "metadata": {
  "kernelspec": {
   "display_name": "Python 3 (ipykernel)",
   "language": "python",
   "name": "python3"
  },
  "language_info": {
   "codemirror_mode": {
    "name": "ipython",
    "version": 3
   },
   "file_extension": ".py",
   "mimetype": "text/x-python",
   "name": "python",
   "nbconvert_exporter": "python",
   "pygments_lexer": "ipython3",
   "version": "3.9.12"
  }
 },
 "nbformat": 4,
 "nbformat_minor": 5
}
