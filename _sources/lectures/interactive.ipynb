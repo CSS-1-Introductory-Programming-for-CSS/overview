{
 "cells": [
  {
   "cell_type": "code",
   "execution_count": 54,
   "id": "75bd11bc",
   "metadata": {},
   "outputs": [
    {
     "name": "stdout",
     "output_type": "stream",
     "text": [
      "c\n",
      "m\n",
      "p\n",
      "t\n",
      "t\n",
      "n\n",
      "l\n",
      "s\n",
      "c\n",
      "l\n",
      "s\n",
      "c\n",
      "n\n",
      "c\n"
     ]
    }
   ],
   "source": [
    "word = \"COMPUTATIONAL Social Science\"\n",
    "vowels = ['a', 'e', 'i', 'o', 'u', 'y']\n",
    "### \n",
    "for letter in word:\n",
    "    if letter.lower() not in vowels and letter != \" \":\n",
    "        print(letter.lower())"
   ]
  },
  {
   "cell_type": "code",
   "execution_count": null,
   "id": "7795fe34",
   "metadata": {},
   "outputs": [],
   "source": []
  }
 ],
 "metadata": {
  "kernelspec": {
   "display_name": "Python 3 (ipykernel)",
   "language": "python",
   "name": "python3"
  },
  "language_info": {
   "codemirror_mode": {
    "name": "ipython",
    "version": 3
   },
   "file_extension": ".py",
   "mimetype": "text/x-python",
   "name": "python",
   "nbconvert_exporter": "python",
   "pygments_lexer": "ipython3",
   "version": "3.9.12"
  }
 },
 "nbformat": 4,
 "nbformat_minor": 5
}
