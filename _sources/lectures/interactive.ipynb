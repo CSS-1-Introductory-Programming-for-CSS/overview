{
 "cells": [
  {
   "cell_type": "markdown",
   "id": "6bde5040",
   "metadata": {},
   "source": [
    "### Interactive practice: Similar problems to PS"
   ]
  },
  {
   "cell_type": "code",
   "execution_count": 27,
   "id": "37bd7916",
   "metadata": {},
   "outputs": [],
   "source": [
    "## Goal: Append items from one list to another, changing case, then sort\n",
    "course_topics = ['cognition', 'brain', 'behavior', \n",
    "                 'computation', 'anatomy']\n",
    "new_list = []\n",
    "for topic in course_topics:\n",
    "    new_list.append(topic.upper())"
   ]
  },
  {
   "cell_type": "code",
   "execution_count": 30,
   "id": "d426c32c",
   "metadata": {},
   "outputs": [
    {
     "name": "stdout",
     "output_type": "stream",
     "text": [
      "['ANATOMY', 'BEHAVIOR', 'BRAIN', 'COGNITION', 'COMPUTATION']\n"
     ]
    }
   ],
   "source": [
    "new_list.sort()\n",
    "print(new_list)"
   ]
  },
  {
   "cell_type": "code",
   "execution_count": 32,
   "id": "6ef3f591",
   "metadata": {},
   "outputs": [
    {
     "data": {
      "text/plain": [
       "['anatomy', 'behavior', 'brain', 'cognition', 'computation']"
      ]
     },
     "execution_count": 32,
     "metadata": {},
     "output_type": "execute_result"
    }
   ],
   "source": [
    "new_new_list = [item.lower() for item in new_list]\n",
    "new_new_list"
   ]
  },
  {
   "cell_type": "code",
   "execution_count": null,
   "id": "09e5e42c",
   "metadata": {},
   "outputs": [],
   "source": []
  },
  {
   "cell_type": "code",
   "execution_count": 52,
   "id": "23b5f36f",
   "metadata": {},
   "outputs": [],
   "source": [
    "## Goal: Identify words in passage, then count how many words end with \"w\"\n",
    "passage = \"Tomorrow, and TOMORROW, and tomorrow, Creeps in this petty pace from day to day\"\n",
    "# ...\n",
    "words = passage.replace(\",\", \"\").split(\" \")\n",
    "num_end_w = 0\n",
    "for word in words:\n",
    "    if word[-1] == \"w\" or word[-1] == \"W\":\n",
    "        num_end_w += 1"
   ]
  },
  {
   "cell_type": "code",
   "execution_count": null,
   "id": "f78e9485",
   "metadata": {},
   "outputs": [],
   "source": []
  },
  {
   "cell_type": "code",
   "execution_count": null,
   "id": "3967ab87",
   "metadata": {},
   "outputs": [],
   "source": []
  },
  {
   "cell_type": "markdown",
   "id": "c9ff6837",
   "metadata": {},
   "source": [
    "### Dictionaries"
   ]
  },
  {
   "cell_type": "code",
   "execution_count": 109,
   "id": "2a47efda",
   "metadata": {},
   "outputs": [],
   "source": [
    "courses = {'CSS 1': 'Introduction to Programming',\n",
    "          'CSS 2': 'Data and Model Programming',\n",
    "          'CSS 100': 'Advanced Analytic Programming'}\n",
    "# courses.keys()"
   ]
  },
  {
   "cell_type": "code",
   "execution_count": 114,
   "id": "c9c215d4",
   "metadata": {},
   "outputs": [
    {
     "name": "stdout",
     "output_type": "stream",
     "text": [
      "CSS 1\n",
      "Introduction to Programming\n",
      "CSS 2\n",
      "Data and Model Programming\n",
      "CSS 100\n",
      "Advanced Analytic Programming\n"
     ]
    }
   ],
   "source": [
    "for course_id, course_name in courses.items():\n",
    "    print(course_id)\n",
    "    print(course_name)"
   ]
  },
  {
   "cell_type": "code",
   "execution_count": null,
   "id": "40f36f51",
   "metadata": {},
   "outputs": [],
   "source": []
  }
 ],
 "metadata": {
  "kernelspec": {
   "display_name": "Python 3 (ipykernel)",
   "language": "python",
   "name": "python3"
  },
  "language_info": {
   "codemirror_mode": {
    "name": "ipython",
    "version": 3
   },
   "file_extension": ".py",
   "mimetype": "text/x-python",
   "name": "python",
   "nbconvert_exporter": "python",
   "pygments_lexer": "ipython3",
   "version": "3.9.12"
  }
 },
 "nbformat": 4,
 "nbformat_minor": 5
}
