{
 "cells": [
  {
   "cell_type": "code",
   "execution_count": 59,
   "id": "621da0ff",
   "metadata": {},
   "outputs": [
    {
     "name": "stdout",
     "output_type": "stream",
     "text": [
      "a\n",
      "I am here.\n",
      "I am here.\n",
      "I am here.\n",
      "I am here.\n",
      "I am here.\n",
      "e\n",
      "I am here.\n",
      "I am here.\n",
      "I am here.\n",
      "I am here.\n",
      "I am here.\n",
      "i\n",
      "I am here.\n",
      "I am here.\n",
      "I am here.\n",
      "I am here.\n",
      "I am here.\n",
      "o\n",
      "I am here.\n",
      "I am here.\n",
      "I am here.\n",
      "I am here.\n",
      "I am here.\n",
      "u\n",
      "I am here.\n",
      "I am here.\n",
      "I am here.\n",
      "I am here.\n",
      "I am here.\n"
     ]
    }
   ],
   "source": [
    "vowels = ['a', 'e', 'i', 'o', 'u']\n",
    "for vowel in vowels:\n",
    "    index = 0\n",
    "    print(vowel)\n",
    "    while index < len(vowels):\n",
    "        print(\"I am here.\")\n",
    "        index += 1"
   ]
  },
  {
   "cell_type": "code",
   "execution_count": 55,
   "id": "99ca5551",
   "metadata": {},
   "outputs": [
    {
     "data": {
      "text/plain": [
       "3"
      ]
     },
     "execution_count": 55,
     "metadata": {},
     "output_type": "execute_result"
    }
   ],
   "source": [
    "num_vowels"
   ]
  },
  {
   "cell_type": "code",
   "execution_count": null,
   "id": "4eb7087d",
   "metadata": {},
   "outputs": [],
   "source": []
  }
 ],
 "metadata": {
  "kernelspec": {
   "display_name": "Python 3 (ipykernel)",
   "language": "python",
   "name": "python3"
  },
  "language_info": {
   "codemirror_mode": {
    "name": "ipython",
    "version": 3
   },
   "file_extension": ".py",
   "mimetype": "text/x-python",
   "name": "python",
   "nbconvert_exporter": "python",
   "pygments_lexer": "ipython3",
   "version": "3.9.12"
  }
 },
 "nbformat": 4,
 "nbformat_minor": 5
}
