{
 "cells": [
  {
   "cell_type": "code",
   "execution_count": 79,
   "id": "0aee81af",
   "metadata": {},
   "outputs": [
    {
     "name": "stdout",
     "output_type": "stream",
     "text": [
      "Condition 1 is true.\n",
      "Condition 2 is true.\n"
     ]
    }
   ],
   "source": [
    "condition1 = True\n",
    "condition2 = True\n",
    "if condition1:\n",
    "    print(\"Condition 1 is true.\")\n",
    "if condition2:\n",
    "    print(\"Condition 2 is true.\")"
   ]
  },
  {
   "cell_type": "code",
   "execution_count": null,
   "id": "26d459b5",
   "metadata": {},
   "outputs": [],
   "source": []
  }
 ],
 "metadata": {
  "kernelspec": {
   "display_name": "Python 3 (ipykernel)",
   "language": "python",
   "name": "python3"
  },
  "language_info": {
   "codemirror_mode": {
    "name": "ipython",
    "version": 3
   },
   "file_extension": ".py",
   "mimetype": "text/x-python",
   "name": "python",
   "nbconvert_exporter": "python",
   "pygments_lexer": "ipython3",
   "version": "3.9.12"
  }
 },
 "nbformat": 4,
 "nbformat_minor": 5
}
