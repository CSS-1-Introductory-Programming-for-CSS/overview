{
 "cells": [
  {
   "cell_type": "code",
   "execution_count": 31,
   "id": "a4069b62",
   "metadata": {},
   "outputs": [],
   "source": [
    "with open(\"data/hamlet.txt\", \"r\") as f:\n",
    "    book = f.read()"
   ]
  },
  {
   "cell_type": "code",
   "execution_count": 40,
   "id": "d7e5d0fd",
   "metadata": {},
   "outputs": [],
   "source": [
    "book = book.replace(\"\\n\", \" \")\n",
    "book = book.lower()\n",
    "words = book.split()"
   ]
  },
  {
   "cell_type": "code",
   "execution_count": 41,
   "id": "62df73f8",
   "metadata": {},
   "outputs": [
    {
     "data": {
      "text/plain": [
       "32724"
      ]
     },
     "execution_count": 41,
     "metadata": {},
     "output_type": "execute_result"
    }
   ],
   "source": [
    "len(words)"
   ]
  },
  {
   "cell_type": "code",
   "execution_count": 46,
   "id": "1f658349",
   "metadata": {},
   "outputs": [
    {
     "data": {
      "text/plain": [
       "7251"
      ]
     },
     "execution_count": 46,
     "metadata": {},
     "output_type": "execute_result"
    }
   ],
   "source": [
    "len(set(words))"
   ]
  },
  {
   "cell_type": "code",
   "execution_count": 64,
   "id": "2f857bd8",
   "metadata": {},
   "outputs": [],
   "source": [
    "word_counts = {}\n",
    "\n",
    "for word in words:\n",
    "    \n",
    "    word_cleaned = word.replace(\".\", \"\").replace(\",\", \"\")\n",
    "    if word_cleaned not in word_counts:\n",
    "        word_counts[word_cleaned] = 1\n",
    "    else:\n",
    "        word_counts[word_cleaned] += 1"
   ]
  },
  {
   "cell_type": "code",
   "execution_count": 65,
   "id": "9ce79891",
   "metadata": {},
   "outputs": [
    {
     "data": {
      "text/plain": [
       "83"
      ]
     },
     "execution_count": 65,
     "metadata": {},
     "output_type": "execute_result"
    }
   ],
   "source": [
    "word_counts['hamlet']"
   ]
  },
  {
   "cell_type": "code",
   "execution_count": 66,
   "id": "bf8d18d8",
   "metadata": {},
   "outputs": [
    {
     "data": {
      "text/plain": [
       "182"
      ]
     },
     "execution_count": 66,
     "metadata": {},
     "output_type": "execute_result"
    }
   ],
   "source": [
    "word_counts['king']"
   ]
  },
  {
   "cell_type": "code",
   "execution_count": 67,
   "id": "99590edd",
   "metadata": {},
   "outputs": [],
   "source": [
    "highest_count = 0\n",
    "most_frequent_word = None\n",
    "for word, num_times in word_counts.items():\n",
    "    \n",
    "    if num_times > highest_count:\n",
    "        most_frequent_word = word\n",
    "        highest_count = num_times"
   ]
  },
  {
   "cell_type": "code",
   "execution_count": 68,
   "id": "31a135f5",
   "metadata": {},
   "outputs": [
    {
     "data": {
      "text/plain": [
       "1095"
      ]
     },
     "execution_count": 68,
     "metadata": {},
     "output_type": "execute_result"
    }
   ],
   "source": [
    "highest_count"
   ]
  },
  {
   "cell_type": "code",
   "execution_count": 69,
   "id": "64f77d19",
   "metadata": {},
   "outputs": [
    {
     "data": {
      "text/plain": [
       "'the'"
      ]
     },
     "execution_count": 69,
     "metadata": {},
     "output_type": "execute_result"
    }
   ],
   "source": [
    "most_frequent_word"
   ]
  },
  {
   "cell_type": "code",
   "execution_count": 71,
   "id": "8710befe",
   "metadata": {},
   "outputs": [
    {
     "data": {
      "text/plain": [
       "'the'"
      ]
     },
     "execution_count": 71,
     "metadata": {},
     "output_type": "execute_result"
    }
   ],
   "source": [
    "max(word_counts, key = word_counts.get)"
   ]
  },
  {
   "cell_type": "code",
   "execution_count": null,
   "id": "7b487e90",
   "metadata": {},
   "outputs": [],
   "source": []
  }
 ],
 "metadata": {
  "kernelspec": {
   "display_name": "Python 3 (ipykernel)",
   "language": "python",
   "name": "python3"
  },
  "language_info": {
   "codemirror_mode": {
    "name": "ipython",
    "version": 3
   },
   "file_extension": ".py",
   "mimetype": "text/x-python",
   "name": "python",
   "nbconvert_exporter": "python",
   "pygments_lexer": "ipython3",
   "version": "3.9.12"
  }
 },
 "nbformat": 4,
 "nbformat_minor": 5
}
