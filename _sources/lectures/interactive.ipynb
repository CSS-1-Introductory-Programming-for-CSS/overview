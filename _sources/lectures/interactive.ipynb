{
 "cells": [
  {
   "cell_type": "code",
   "execution_count": 48,
   "id": "f92a3aa6",
   "metadata": {},
   "outputs": [
    {
     "name": "stdout",
     "output_type": "stream",
     "text": [
      "A is True\n",
      "Neither A nor B are True.\n"
     ]
    }
   ],
   "source": [
    "A = True\n",
    "B = False\n",
    "C = True\n",
    "\n",
    "if A:\n",
    "    print(\"A is True\")\n",
    "\n",
    "if B:\n",
    "    print(\"B is True\")\n",
    "else:\n",
    "    print(\"Neither A nor B are True.\")"
   ]
  },
  {
   "cell_type": "code",
   "execution_count": null,
   "id": "59d10ab0",
   "metadata": {},
   "outputs": [],
   "source": []
  }
 ],
 "metadata": {
  "kernelspec": {
   "display_name": "Python 3 (ipykernel)",
   "language": "python",
   "name": "python3"
  },
  "language_info": {
   "codemirror_mode": {
    "name": "ipython",
    "version": 3
   },
   "file_extension": ".py",
   "mimetype": "text/x-python",
   "name": "python",
   "nbconvert_exporter": "python",
   "pygments_lexer": "ipython3",
   "version": "3.9.12"
  }
 },
 "nbformat": 4,
 "nbformat_minor": 5
}
