{
 "cells": [
  {
   "cell_type": "code",
   "execution_count": 92,
   "id": "1756e063",
   "metadata": {},
   "outputs": [
    {
     "name": "stdout",
     "output_type": "stream",
     "text": [
      "<class 'dict'>\n",
      "{'Name': 'Sean Trott', 'Occupation': 'Assistant Teaching Professor', 'Location': 'San Diego'}\n"
     ]
    }
   ],
   "source": [
    "person = {'Name': 'Sean Trott',\n",
    "          'Occupation': 'Assistant Teaching Professor',\n",
    "          'Location': 'San Diego'}\n",
    "print(type(person))\n",
    "print(person)"
   ]
  },
  {
   "cell_type": "code",
   "execution_count": 99,
   "id": "8c929bfc",
   "metadata": {},
   "outputs": [],
   "source": [
    "people = [\n",
    "    {'Name': 'Sean Trott',\n",
    "          'Occupation': 'Assistant Teaching Professor',\n",
    "          'Location': 'San Diego'},\n",
    "    {'Name': 'First Last',\n",
    "          'Occupation': 'Profession',\n",
    "          'Location': 'San Diego'}\n",
    "]"
   ]
  },
  {
   "cell_type": "code",
   "execution_count": 105,
   "id": "f59ef6bf",
   "metadata": {},
   "outputs": [],
   "source": [
    "people = {\n",
    "    'Sean': {'Occupation': 'Professor'},\n",
    "    'Sam': {\"Occupation\": \"Student\"}\n",
    "}"
   ]
  },
  {
   "cell_type": "code",
   "execution_count": 109,
   "id": "7a8dc6fe",
   "metadata": {},
   "outputs": [
    {
     "data": {
      "text/plain": [
       "'Student'"
      ]
     },
     "execution_count": 109,
     "metadata": {},
     "output_type": "execute_result"
    }
   ],
   "source": [
    "people['Sam']['Occupation']"
   ]
  },
  {
   "cell_type": "code",
   "execution_count": null,
   "id": "cd0a04b1",
   "metadata": {},
   "outputs": [],
   "source": []
  }
 ],
 "metadata": {
  "kernelspec": {
   "display_name": "Python 3 (ipykernel)",
   "language": "python",
   "name": "python3"
  },
  "language_info": {
   "codemirror_mode": {
    "name": "ipython",
    "version": 3
   },
   "file_extension": ".py",
   "mimetype": "text/x-python",
   "name": "python",
   "nbconvert_exporter": "python",
   "pygments_lexer": "ipython3",
   "version": "3.9.12"
  }
 },
 "nbformat": 4,
 "nbformat_minor": 5
}
