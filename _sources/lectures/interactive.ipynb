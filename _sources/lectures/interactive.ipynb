{
 "cells": [
  {
   "cell_type": "code",
   "execution_count": 59,
   "id": "cc346e05",
   "metadata": {},
   "outputs": [],
   "source": [
    "numbers = [1, 2, 3, 4]"
   ]
  },
  {
   "cell_type": "code",
   "execution_count": 64,
   "id": "9843184d",
   "metadata": {},
   "outputs": [
    {
     "name": "stdout",
     "output_type": "stream",
     "text": [
      "Outer loop\n",
      "1\n",
      "Outer loop\n",
      "2\n",
      "Inner loop\n",
      "1\n",
      "Inner loop\n",
      "2\n",
      "Inner loop\n",
      "3\n",
      "Sum\n",
      "5\n",
      "Inner loop\n",
      "4\n",
      "Outer loop\n",
      "3\n",
      "Outer loop\n",
      "4\n",
      "Inner loop\n",
      "1\n",
      "Inner loop\n",
      "2\n",
      "Inner loop\n",
      "3\n",
      "Inner loop\n",
      "4\n"
     ]
    }
   ],
   "source": [
    "for num in numbers:\n",
    "    print(\"Outer loop\")\n",
    "    print(num)\n",
    "    if num % 2 == 0:\n",
    "        for num2 in numbers:\n",
    "            print(\"Inner loop\")\n",
    "            print(num2)\n",
    "            if num2 % 2 == 1 and num2 > num:\n",
    "                print(\"Sum\")\n",
    "                print(num + num2)"
   ]
  },
  {
   "cell_type": "code",
   "execution_count": null,
   "id": "46c35bf3",
   "metadata": {},
   "outputs": [],
   "source": []
  }
 ],
 "metadata": {
  "kernelspec": {
   "display_name": "Python 3 (ipykernel)",
   "language": "python",
   "name": "python3"
  },
  "language_info": {
   "codemirror_mode": {
    "name": "ipython",
    "version": 3
   },
   "file_extension": ".py",
   "mimetype": "text/x-python",
   "name": "python",
   "nbconvert_exporter": "python",
   "pygments_lexer": "ipython3",
   "version": "3.9.12"
  }
 },
 "nbformat": 4,
 "nbformat_minor": 5
}
