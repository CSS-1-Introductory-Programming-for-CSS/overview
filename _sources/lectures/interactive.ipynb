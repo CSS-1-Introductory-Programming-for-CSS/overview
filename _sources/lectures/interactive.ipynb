{
 "cells": [
  {
   "cell_type": "code",
   "execution_count": 101,
   "id": "4a4cc752",
   "metadata": {},
   "outputs": [],
   "source": [
    "from datetime import date"
   ]
  },
  {
   "cell_type": "code",
   "execution_count": 102,
   "id": "13d81816",
   "metadata": {},
   "outputs": [
    {
     "data": {
      "text/plain": [
       "datetime.date(2022, 9, 18)"
      ]
     },
     "execution_count": 102,
     "metadata": {},
     "output_type": "execute_result"
    }
   ],
   "source": [
    "date_object = date(day = 18,\n",
    "                  month = 9,\n",
    "                  year = 2022)\n",
    "date_object"
   ]
  },
  {
   "cell_type": "code",
   "execution_count": 108,
   "id": "a54a9c4a",
   "metadata": {},
   "outputs": [
    {
     "data": {
      "text/plain": [
       "'Sun Sep 18 00:00:00 2022'"
      ]
     },
     "execution_count": 108,
     "metadata": {},
     "output_type": "execute_result"
    }
   ],
   "source": [
    "date_object.ctime()"
   ]
  },
  {
   "cell_type": "code",
   "execution_count": 109,
   "id": "3cfc1441",
   "metadata": {},
   "outputs": [],
   "source": [
    "date2 = date(day = 17, month = 9,\n",
    "            year = 2022)\n",
    "## How far apart are these dates?\n",
    "# "
   ]
  },
  {
   "cell_type": "code",
   "execution_count": 111,
   "id": "ab35384b",
   "metadata": {},
   "outputs": [
    {
     "data": {
      "text/plain": [
       "datetime.date(2022, 9, 17)"
      ]
     },
     "execution_count": 111,
     "metadata": {},
     "output_type": "execute_result"
    }
   ],
   "source": [
    "date2"
   ]
  },
  {
   "cell_type": "code",
   "execution_count": 112,
   "id": "eb01287b",
   "metadata": {},
   "outputs": [
    {
     "data": {
      "text/plain": [
       "datetime.timedelta(days=1)"
      ]
     },
     "execution_count": 112,
     "metadata": {},
     "output_type": "execute_result"
    }
   ],
   "source": [
    "date_object - date2"
   ]
  },
  {
   "cell_type": "code",
   "execution_count": null,
   "id": "0871bde0",
   "metadata": {},
   "outputs": [],
   "source": []
  }
 ],
 "metadata": {
  "kernelspec": {
   "display_name": "Python 3 (ipykernel)",
   "language": "python",
   "name": "python3"
  },
  "language_info": {
   "codemirror_mode": {
    "name": "ipython",
    "version": 3
   },
   "file_extension": ".py",
   "mimetype": "text/x-python",
   "name": "python",
   "nbconvert_exporter": "python",
   "pygments_lexer": "ipython3",
   "version": "3.9.12"
  }
 },
 "nbformat": 4,
 "nbformat_minor": 5
}
