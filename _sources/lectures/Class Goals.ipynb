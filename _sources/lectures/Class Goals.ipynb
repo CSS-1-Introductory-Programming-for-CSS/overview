{
 "cells": [
  {
   "cell_type": "markdown",
   "id": "9cbf056b",
   "metadata": {
    "slideshow": {
     "slide_type": "slide"
    }
   },
   "source": [
    "# Goals of CSS 1"
   ]
  },
  {
   "cell_type": "markdown",
   "id": "dc7c7018",
   "metadata": {
    "slideshow": {
     "slide_type": "slide"
    }
   },
   "source": [
    "## Checking in\n",
    "\n",
    "- So far, we've been pretty \"in the weeds\" with Python.\n",
    "   - `for` loops, `if` statements, `str` vs. `list`, etc.\n",
    "- Some might be wondering: what is this all for? How does this relate to **computational social science**?"
   ]
  },
  {
   "cell_type": "markdown",
   "id": "2b820330",
   "metadata": {
    "slideshow": {
     "slide_type": "slide"
    }
   },
   "source": [
    "## CSS depends on computational skills\n",
    "\n",
    "- **Computational Social Science** (CSS) is very *broad*.  \n",
    "- But different applications of CSS all share the **\"computational\"** part in common.\n",
    "- These computational skills include:\n",
    "   - **Writing** and **debugging** code.\n",
    "   - Interacting with different types of **data** and **file types**.  \n",
    "   - **Manipulating** and **analyzing** data.  \n",
    "   - **Proposing** analyses and **interpreting** the results.\n",
    "- All these skills must be developed."
   ]
  },
  {
   "cell_type": "markdown",
   "id": "257717c5",
   "metadata": {
    "slideshow": {
     "slide_type": "slide"
    }
   },
   "source": [
    "## CSS 1 is foundational\n",
    "\n",
    "- CSS 1 is all about laying the **foundation** for a computational mindset.\n",
    "   - Fluency with Python ([why Python?](https://ucsd-css1-introduction.github.io/overview/course/expectations.html#why-python)). \n",
    "   - Ability to distinguish different kinds of variables/data (`str` vs. `int`, etc.).  \n",
    "   - Experience **interacting** with and **manipulating** data (e.g., with `numpy` and `pandas`).  \n",
    "- CSS 2 and CSS 100 will build on this foundation.\n",
    "- **Bonus benefit**: even if you don't pursue CSS, **CSS 1** gives you the technical skills to start applying programming to many different domains."
   ]
  }
 ],
 "metadata": {
  "celltoolbar": "Slideshow",
  "kernelspec": {
   "display_name": "Python 3 (ipykernel)",
   "language": "python",
   "name": "python3"
  },
  "language_info": {
   "codemirror_mode": {
    "name": "ipython",
    "version": 3
   },
   "file_extension": ".py",
   "mimetype": "text/x-python",
   "name": "python",
   "nbconvert_exporter": "python",
   "pygments_lexer": "ipython3",
   "version": "3.9.12"
  }
 },
 "nbformat": 4,
 "nbformat_minor": 5
}
