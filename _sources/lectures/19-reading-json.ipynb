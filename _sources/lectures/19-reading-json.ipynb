{
 "cells": [
  {
   "cell_type": "markdown",
   "id": "357a45b3",
   "metadata": {
    "slideshow": {
     "slide_type": "slide"
    }
   },
   "source": [
    "# Working with JSON Files"
   ]
  },
  {
   "cell_type": "markdown",
   "id": "f0ba81c4",
   "metadata": {
    "slideshow": {
     "slide_type": "slide"
    }
   },
   "source": [
    "## Goals of this lecture\n",
    "\n",
    "We've already discussed the basics of **reading** and **writing** text (`.txt`) files. \n",
    "\n",
    "But another common file type is a `.json` file, which allows you to store **structured data**.\n",
    "\n",
    "This lecture will cover:\n",
    "\n",
    "- What is a `.json` file? What is JSON more generally and why is it useful?  \n",
    "- How do we **read in** a `.json` file?  \n",
    "- How do we **write** a `.json` file?  \n",
    "- JSON files vs. JSON strings."
   ]
  },
  {
   "cell_type": "markdown",
   "id": "e439b837",
   "metadata": {
    "slideshow": {
     "slide_type": "slide"
    }
   },
   "source": [
    "## What is a `.json` file?\n",
    "\n",
    "> A `.json` file is a **file written in the JSON file format**. It allows us to store structured data objects consisting of **key-value** pairs."
   ]
  },
  {
   "cell_type": "markdown",
   "id": "b48a5eff",
   "metadata": {
    "slideshow": {
     "slide_type": "slide"
    }
   },
   "source": [
    "### What is JSON?\n",
    "\n",
    "**JSON** = JavaScript Object Notation.\n",
    "\n",
    "- Standard format for *representing* and *transmitting* data.  \n",
    "   - \"Standard\" = different people/systems agree to use this format to send and receive information.  \n",
    "- Represents data in **key-value** pairs."
   ]
  },
  {
   "cell_type": "markdown",
   "id": "670d78b4",
   "metadata": {
    "slideshow": {
     "slide_type": "slide"
    }
   },
   "source": [
    "#### Check-in\n",
    "\n",
    "What else have we seen that represents data in **key-value pairs**?"
   ]
  },
  {
   "cell_type": "markdown",
   "id": "e19d24d7",
   "metadata": {
    "slideshow": {
     "slide_type": "slide"
    }
   },
   "source": [
    "### A Python `dict` is a collection of key-value pairs\n",
    "\n",
    "A **dictionary** (`dict`) stores **key-value** pairs."
   ]
  },
  {
   "cell_type": "code",
   "execution_count": 6,
   "id": "795d816c",
   "metadata": {
    "slideshow": {
     "slide_type": "-"
    }
   },
   "outputs": [
    {
     "name": "stdout",
     "output_type": "stream",
     "text": [
      "{'Code': '1', 'Department': 'CSS', 'Instructor': 'Trott', 'Prerequisite': True, 'Enrollment': 120}\n"
     ]
    }
   ],
   "source": [
    "my_class = {'Code': '1',\n",
    "           'Department': 'CSS',\n",
    "           'Instructor': 'Trott',\n",
    "            'Prerequisite': True,\n",
    "           'Enrollment': 120}\n",
    "print(my_class)"
   ]
  },
  {
   "cell_type": "code",
   "execution_count": 7,
   "id": "7ad7140d",
   "metadata": {
    "slideshow": {
     "slide_type": "-"
    }
   },
   "outputs": [
    {
     "data": {
      "text/plain": [
       "'CSS'"
      ]
     },
     "execution_count": 7,
     "metadata": {},
     "output_type": "execute_result"
    }
   ],
   "source": [
    "my_class['Department']"
   ]
  },
  {
   "cell_type": "markdown",
   "id": "783e845a",
   "metadata": {
    "slideshow": {
     "slide_type": "slide"
    }
   },
   "source": [
    "### JSON and `dict`: an analogy\n",
    "\n",
    "Conceptually, JSON accomplishes the same goals as a Python `dict`.\n",
    "\n",
    "- In fact, Python programmers often *convert* a `dict` into a JSON `str` when they want to store it in a file.  \n",
    "- Similarly, you can **read in** a `.json` file and convert the contents into a `dict`.\n",
    "\n",
    "**Bottom line**: we're not dealing with a fundamentally new data sturcture––it's another standardized way to represent **key-value pairs**."
   ]
  },
  {
   "cell_type": "markdown",
   "id": "409300fd",
   "metadata": {
    "slideshow": {
     "slide_type": "slide"
    }
   },
   "source": [
    "## Reading in a `.json` file\n",
    "\n",
    "Reading in a `.json` file shares some similarities with [reading `.txt` files](17-reading-text).  \n",
    "\n",
    "- Must specify a **file path**.  \n",
    "- File path can be either *absolute* or *relative*.\n",
    "\n",
    "But there are also some important differences:\n",
    "\n",
    "- To **read in** a `.json` file, we'll need to `import` the `json` library.  \n",
    "- `json.load` will read in a **structured `.json` file** as a `dict`, not a `str`."
   ]
  },
  {
   "cell_type": "markdown",
   "id": "ad3741f0",
   "metadata": {
    "slideshow": {
     "slide_type": "slide"
    }
   },
   "source": [
    "### Example: simple file\n",
    "\n",
    "Here, we will work with a simple `.json` file: `data/restaurant.json`. \n",
    "\n",
    "- The file contains a structured representation of a restaurant.  \n",
    "- We use `json.load(...)` to **load** this representation as a `dict`."
   ]
  },
  {
   "cell_type": "code",
   "execution_count": 30,
   "id": "25833dbb",
   "metadata": {
    "slideshow": {
     "slide_type": "-"
    }
   },
   "outputs": [],
   "source": [
    "## This imports the json library\n",
    "import json"
   ]
  },
  {
   "cell_type": "code",
   "execution_count": 31,
   "id": "a15af3ba",
   "metadata": {
    "slideshow": {
     "slide_type": "-"
    }
   },
   "outputs": [],
   "source": [
    "## As with normal .txt. files, we use \"open\" to open the target restaurant\n",
    "with open(\"data/restaurant.json\", \"r\") as fp:\n",
    "    ## use json.load to load as dict\n",
    "    info = json.load(fp)"
   ]
  },
  {
   "cell_type": "code",
   "execution_count": 32,
   "id": "c609d50c",
   "metadata": {
    "slideshow": {
     "slide_type": "-"
    }
   },
   "outputs": [
    {
     "data": {
      "text/plain": [
       "{'Name': 'Plumeria', 'Location': 'University Heights', 'Cuisine': 'Thai'}"
      ]
     },
     "execution_count": 32,
     "metadata": {},
     "output_type": "execute_result"
    }
   ],
   "source": [
    "info"
   ]
  },
  {
   "cell_type": "markdown",
   "id": "9cd195b7",
   "metadata": {
    "slideshow": {
     "slide_type": "slide"
    }
   },
   "source": [
    "### `load` creates a `dict`\n",
    "\n",
    "Now, we can work with the **contents** of this file as we would any `dict`."
   ]
  },
  {
   "cell_type": "code",
   "execution_count": 33,
   "id": "01371089",
   "metadata": {
    "slideshow": {
     "slide_type": "-"
    }
   },
   "outputs": [
    {
     "data": {
      "text/plain": [
       "'Plumeria'"
      ]
     },
     "execution_count": 33,
     "metadata": {},
     "output_type": "execute_result"
    }
   ],
   "source": [
    "info['Name']"
   ]
  },
  {
   "cell_type": "code",
   "execution_count": 34,
   "id": "4fddafe0",
   "metadata": {
    "slideshow": {
     "slide_type": "-"
    }
   },
   "outputs": [
    {
     "data": {
      "text/plain": [
       "'University Heights'"
      ]
     },
     "execution_count": 34,
     "metadata": {},
     "output_type": "execute_result"
    }
   ],
   "source": [
    "info['Location']"
   ]
  },
  {
   "cell_type": "code",
   "execution_count": 36,
   "id": "6e131677",
   "metadata": {
    "slideshow": {
     "slide_type": "-"
    }
   },
   "outputs": [
    {
     "data": {
      "text/plain": [
       "'Thai'"
      ]
     },
     "execution_count": 36,
     "metadata": {},
     "output_type": "execute_result"
    }
   ],
   "source": [
    "info['Cuisine']"
   ]
  },
  {
   "cell_type": "markdown",
   "id": "da401072",
   "metadata": {
    "slideshow": {
     "slide_type": "slide"
    }
   },
   "source": [
    "### Check-in\n",
    "\n",
    "Try reading in another file that's stored in `data`: `data/school.json`. \n",
    "\n",
    "What is the value of the **Name** key?"
   ]
  },
  {
   "cell_type": "code",
   "execution_count": 37,
   "id": "8708f14e",
   "metadata": {
    "slideshow": {
     "slide_type": "-"
    }
   },
   "outputs": [],
   "source": [
    "### Your code here"
   ]
  },
  {
   "cell_type": "markdown",
   "id": "25559bed",
   "metadata": {
    "slideshow": {
     "slide_type": "slide"
    }
   },
   "source": [
    "### Solution"
   ]
  },
  {
   "cell_type": "code",
   "execution_count": 41,
   "id": "11aeb81d",
   "metadata": {
    "slideshow": {
     "slide_type": "-"
    }
   },
   "outputs": [],
   "source": [
    "## As before, we use \"open\" to open the target file\n",
    "with open(\"data/school.json\", \"r\") as fp:\n",
    "    ## use json.load to load as dict\n",
    "    school_info = json.load(fp)"
   ]
  },
  {
   "cell_type": "code",
   "execution_count": 43,
   "id": "c9ccb79f",
   "metadata": {
    "slideshow": {
     "slide_type": "-"
    }
   },
   "outputs": [
    {
     "data": {
      "text/plain": [
       "'UCSD'"
      ]
     },
     "execution_count": 43,
     "metadata": {},
     "output_type": "execute_result"
    }
   ],
   "source": [
    "## Get name of school\n",
    "school_info['Name']"
   ]
  },
  {
   "cell_type": "markdown",
   "id": "2fc1f9fa",
   "metadata": {
    "slideshow": {
     "slide_type": "slide"
    }
   },
   "source": [
    "## Writing a `.json` file\n",
    "\n",
    "Often, you'll want to **write** a structured `dict` to a file.  \n",
    "\n",
    "- Useful for *storing* information, so you can access it later.  \n",
    "- Useful for *transmitting* information between programs.  \n",
    "\n",
    "We can use `json.dump(...)` to **write** (or \"dump\") a `dict` into a `.json` file."
   ]
  },
  {
   "cell_type": "markdown",
   "id": "01014c75",
   "metadata": {
    "slideshow": {
     "slide_type": "slide"
    }
   },
   "source": [
    "### Simple example: course \n",
    "\n",
    "To start out, let's use the `my_class` dict we defined earlier."
   ]
  },
  {
   "cell_type": "code",
   "execution_count": 48,
   "id": "593fb980",
   "metadata": {
    "slideshow": {
     "slide_type": "-"
    }
   },
   "outputs": [
    {
     "data": {
      "text/plain": [
       "'1'"
      ]
     },
     "execution_count": 48,
     "metadata": {},
     "output_type": "execute_result"
    }
   ],
   "source": [
    "my_class['Code']"
   ]
  },
  {
   "cell_type": "markdown",
   "id": "e8900bde",
   "metadata": {
    "slideshow": {
     "slide_type": "slide"
    }
   },
   "source": [
    "To **write** this to a file, we:\n",
    "\n",
    "- `open` (create) a file with the name we want to call it.  \n",
    "- Use `json.dump(dict_name, filename)`."
   ]
  },
  {
   "cell_type": "code",
   "execution_count": 47,
   "id": "a038611d",
   "metadata": {
    "slideshow": {
     "slide_type": "-"
    }
   },
   "outputs": [],
   "source": [
    "with open(\"course.json\", \"w\") as fp:\n",
    "    json.dump(my_class, fp)"
   ]
  },
  {
   "cell_type": "markdown",
   "id": "ab6a3aac",
   "metadata": {
    "slideshow": {
     "slide_type": "slide"
    }
   },
   "source": [
    "#### Checking that this worked"
   ]
  },
  {
   "cell_type": "code",
   "execution_count": 51,
   "id": "11a09dac",
   "metadata": {
    "slideshow": {
     "slide_type": "-"
    }
   },
   "outputs": [
    {
     "name": "stdout",
     "output_type": "stream",
     "text": [
      "{'Code': '1', 'Department': 'CSS', 'Instructor': 'Trott', 'Prerequisite': True, 'Enrollment': 120}\n"
     ]
    }
   ],
   "source": [
    "with open(\"course.json\", \"r\") as fp:\n",
    "    course_info = json.load(fp)\n",
    "print(course_info)"
   ]
  },
  {
   "cell_type": "markdown",
   "id": "637b3e43",
   "metadata": {
    "slideshow": {
     "slide_type": "slide"
    }
   },
   "source": [
    "### Check-in\n",
    "\n",
    "Create a new `dict` called `my_info`. Add the following keys/values:\n",
    "\n",
    "- `Name`. \n",
    "- `Major`. \n",
    "\n",
    "Then, use `json.dump` to **write** this `dict` to a `.json` file called `my_info.json` to your own computer (in whichever directory you prefer)."
   ]
  },
  {
   "cell_type": "code",
   "execution_count": 53,
   "id": "a2ae73cb",
   "metadata": {
    "slideshow": {
     "slide_type": "-"
    }
   },
   "outputs": [],
   "source": [
    "### Your code here"
   ]
  },
  {
   "cell_type": "markdown",
   "id": "25392d5f",
   "metadata": {
    "slideshow": {
     "slide_type": "slide"
    }
   },
   "source": [
    "#### Solution"
   ]
  },
  {
   "cell_type": "code",
   "execution_count": 54,
   "id": "b51ebca2",
   "metadata": {
    "slideshow": {
     "slide_type": "-"
    }
   },
   "outputs": [],
   "source": [
    "my_info = {'Name': 'Sean', 'Major': 'Cognitive Science'}\n",
    "with open(\"data/my_info.json\", \"w\") as fp:\n",
    "    json.dump(my_info, fp)"
   ]
  },
  {
   "cell_type": "markdown",
   "id": "6177627f",
   "metadata": {
    "slideshow": {
     "slide_type": "slide"
    }
   },
   "source": [
    "## JSON files vs. JSON strings\n",
    "\n",
    "The `load` and `dump` methods can be used to **read** and **write** a `dict` from/to a `.json` file.  \n",
    "\n",
    "However, Python can also represent JSON as a **`str`**.\n",
    "\n",
    "- To *read* a `dict` from a JSON `str`, use `loads` (load + *s*tring).  \n",
    "- To *write* a `dict` into a JSON `str`, use `dumps` (dump + *s*tring)."
   ]
  },
  {
   "cell_type": "markdown",
   "id": "3581b847",
   "metadata": {
    "slideshow": {
     "slide_type": "slide"
    }
   },
   "source": [
    "### `json.dumps`\n",
    "\n",
    "- Input: a `dict`. \n",
    "- Output: a JSON `str`.  "
   ]
  },
  {
   "cell_type": "code",
   "execution_count": 59,
   "id": "32172f7e",
   "metadata": {
    "slideshow": {
     "slide_type": "-"
    }
   },
   "outputs": [
    {
     "data": {
      "text/plain": [
       "'{\"Code\": \"1\", \"Department\": \"CSS\", \"Instructor\": \"Trott\", \"Prerequisite\": true, \"Enrollment\": 120}'"
      ]
     },
     "execution_count": 59,
     "metadata": {},
     "output_type": "execute_result"
    }
   ],
   "source": [
    "json_str = json.dumps(my_class)\n",
    "json_str"
   ]
  },
  {
   "cell_type": "code",
   "execution_count": 60,
   "id": "fb96c18c",
   "metadata": {
    "slideshow": {
     "slide_type": "-"
    }
   },
   "outputs": [
    {
     "data": {
      "text/plain": [
       "str"
      ]
     },
     "execution_count": 60,
     "metadata": {},
     "output_type": "execute_result"
    }
   ],
   "source": [
    "type(json_str)"
   ]
  },
  {
   "cell_type": "markdown",
   "id": "78228b6b",
   "metadata": {
    "slideshow": {
     "slide_type": "slide"
    }
   },
   "source": [
    "### `json.loads`\n",
    "\n",
    "- Input: a JSON `str`.  \n",
    "- Output: a `dict`."
   ]
  },
  {
   "cell_type": "markdown",
   "id": "5f8aa6a8",
   "metadata": {
    "slideshow": {
     "slide_type": "slide"
    }
   },
   "source": [
    "### Other objects besides `dict`s\n",
    "\n",
    "- Technically, you can use `dumps`/`loads` for other objects, such as `str`, `list`, and more.\n",
    "- Though in my experience, a `dict` is the most common format."
   ]
  },
  {
   "cell_type": "code",
   "execution_count": 70,
   "id": "24b53f05",
   "metadata": {
    "slideshow": {
     "slide_type": "-"
    }
   },
   "outputs": [
    {
     "data": {
      "text/plain": [
       "'[1, 2, 3]'"
      ]
     },
     "execution_count": 70,
     "metadata": {},
     "output_type": "execute_result"
    }
   ],
   "source": [
    "json.dumps([1, 2, 3])"
   ]
  },
  {
   "cell_type": "code",
   "execution_count": 71,
   "id": "6c502bde",
   "metadata": {
    "slideshow": {
     "slide_type": "-"
    }
   },
   "outputs": [
    {
     "data": {
      "text/plain": [
       "[1, 2, 3]"
      ]
     },
     "execution_count": 71,
     "metadata": {},
     "output_type": "execute_result"
    }
   ],
   "source": [
    "json.loads('[1, 2, 3]')"
   ]
  },
  {
   "cell_type": "code",
   "execution_count": null,
   "id": "6ccd20ed",
   "metadata": {},
   "outputs": [],
   "source": []
  }
 ],
 "metadata": {
  "celltoolbar": "Slideshow",
  "kernelspec": {
   "display_name": "Python 3 (ipykernel)",
   "language": "python",
   "name": "python3"
  },
  "language_info": {
   "codemirror_mode": {
    "name": "ipython",
    "version": 3
   },
   "file_extension": ".py",
   "mimetype": "text/x-python",
   "name": "python",
   "nbconvert_exporter": "python",
   "pygments_lexer": "ipython3",
   "version": "3.9.12"
  }
 },
 "nbformat": 4,
 "nbformat_minor": 5
}
