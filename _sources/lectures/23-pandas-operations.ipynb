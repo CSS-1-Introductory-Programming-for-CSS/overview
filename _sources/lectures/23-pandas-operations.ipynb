{
 "cells": [
  {
   "cell_type": "markdown",
   "id": "357a45b3",
   "metadata": {
    "slideshow": {
     "slide_type": "slide"
    }
   },
   "source": [
    "# Basic operations with `pandas`"
   ]
  },
  {
   "cell_type": "markdown",
   "id": "7976500f",
   "metadata": {
    "slideshow": {
     "slide_type": "slide"
    }
   },
   "source": [
    "## Goals of this lecture\n",
    "\n",
    "\n",
    "\n",
    "To cover (pt. 2):\n",
    "\n",
    "- Reading in `.csv` files with `pd.read_csv(...)`.\n",
    "- Using `filter`. \n",
    "- Descriptive stats (`.mean()`, etc.)\n",
    "- Modifying a column (or creating a new column).  \n",
    "- Using `sort_values`\n",
    "\n",
    "Simple tasks: https://ucsd-css-001.github.io/lectures/P07-Pandas.html#solving-simple-tasks-examples\n",
    "\n",
    "\n",
    "To cover (pt. 3, advanced):\n",
    "\n",
    "- Using `groupby` \n",
    "- Using `apply`\n",
    "- Identifying `nan` values."
   ]
  },
  {
   "cell_type": "code",
   "execution_count": null,
   "id": "4f0d7fa9",
   "metadata": {},
   "outputs": [],
   "source": []
  }
 ],
 "metadata": {
  "kernelspec": {
   "display_name": "Python 3 (ipykernel)",
   "language": "python",
   "name": "python3"
  },
  "language_info": {
   "codemirror_mode": {
    "name": "ipython",
    "version": 3
   },
   "file_extension": ".py",
   "mimetype": "text/x-python",
   "name": "python",
   "nbconvert_exporter": "python",
   "pygments_lexer": "ipython3",
   "version": "3.9.12"
  }
 },
 "nbformat": 4,
 "nbformat_minor": 5
}
