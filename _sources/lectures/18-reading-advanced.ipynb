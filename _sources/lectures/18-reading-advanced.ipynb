{
 "cells": [
  {
   "cell_type": "markdown",
   "id": "da3c6a6e",
   "metadata": {
    "slideshow": {
     "slide_type": "slide"
    }
   },
   "source": [
    "# Working with Text Files (pt. 2)"
   ]
  },
  {
   "cell_type": "markdown",
   "id": "7967ae41",
   "metadata": {
    "slideshow": {
     "slide_type": "slide"
    }
   },
   "source": [
    "## Goals of this lecture\n",
    "\n",
    "In the previous lecture, we discussed the basics of `open`ing a `.txt` file, as well as **reading** and **writing** to that file.\n",
    "\n",
    "In this lecture, we'll talk about what you can do with a file once you've already opened it. Thus, you'll see many echoes of our previous lecture on [working with strings](strings).\n",
    "\n",
    "- **Finding** a target `str` in a file.  \n",
    "- **Counting** the number of words in a file.  \n",
    "  - **Counting** how many times *each word* occurs.\n",
    "  - Finding the most **frequent** word in a text."
   ]
  },
  {
   "cell_type": "code",
   "execution_count": null,
   "id": "63d76668",
   "metadata": {},
   "outputs": [],
   "source": []
  },
  {
   "cell_type": "code",
   "execution_count": null,
   "id": "4fc9c6ae",
   "metadata": {},
   "outputs": [],
   "source": []
  },
  {
   "cell_type": "code",
   "execution_count": null,
   "id": "e2128011",
   "metadata": {},
   "outputs": [],
   "source": []
  },
  {
   "cell_type": "markdown",
   "id": "a7454269",
   "metadata": {
    "slideshow": {
     "slide_type": "slide"
    }
   },
   "source": [
    "Working with text files once you've read them in!\n",
    "\n",
    "- Finding a target string, then keep the next lines of text.  \n",
    "- Counting number of words.  \n",
    "  - Counting the number of times a given word or set of words occurs. \n",
    "  - Analogy to simple version of sentiment analysis: count all positive and negative words.\n",
    "- Find most common word in text.\n",
    "- Caveats: what is a \"word\"?!!"
   ]
  },
  {
   "cell_type": "code",
   "execution_count": null,
   "id": "9c1bfd58",
   "metadata": {},
   "outputs": [],
   "source": []
  }
 ],
 "metadata": {
  "celltoolbar": "Slideshow",
  "kernelspec": {
   "display_name": "Python 3 (ipykernel)",
   "language": "python",
   "name": "python3"
  },
  "language_info": {
   "codemirror_mode": {
    "name": "ipython",
    "version": 3
   },
   "file_extension": ".py",
   "mimetype": "text/x-python",
   "name": "python",
   "nbconvert_exporter": "python",
   "pygments_lexer": "ipython3",
   "version": "3.9.12"
  }
 },
 "nbformat": 4,
 "nbformat_minor": 5
}
