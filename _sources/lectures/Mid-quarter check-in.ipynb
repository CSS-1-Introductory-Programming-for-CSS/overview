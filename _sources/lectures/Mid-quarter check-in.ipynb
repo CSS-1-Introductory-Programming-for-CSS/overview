{
 "cells": [
  {
   "cell_type": "markdown",
   "id": "c9da0fe4",
   "metadata": {
    "slideshow": {
     "slide_type": "slide"
    }
   },
   "source": [
    "## Mid-quarter check-in\n",
    "\n",
    "- For me, useful way to see how course is going.  \n",
    "- For you, useful way to have input into future offerings of course."
   ]
  },
  {
   "cell_type": "markdown",
   "id": "e6681d90",
   "metadata": {
    "slideshow": {
     "slide_type": "slide"
    }
   },
   "source": [
    "## Pt. 1: How are people doing in the course? \n",
    "\n",
    "- Lab 1: average grade = $96.6\\%$ (median = $100\\%$).\n",
    "- Lab 2: average grade = $96.5\\%$ (median = $100\\%$).\n",
    "- Lab 3: average grade = $88.5\\%$ (median = $100\\%$).\n",
    "- Lab 4: average grade = $90.4\\%$ (median = $100\\%$).\n",
    "- Problem Set 1: average grade = $93.4\\%$ (median = $100\\%$).\n",
    "\n",
    "**Summary**: Quite well, for the most part!\n",
    "\n",
    "If you're struggling or feel lost, please reach out to either me or the TAs!"
   ]
  },
  {
   "cell_type": "markdown",
   "id": "731fd0da",
   "metadata": {
    "slideshow": {
     "slide_type": "slide"
    }
   },
   "source": [
    "## Pt. 2: Survey\n",
    "\n",
    "- 34 respondents (about ~30% response rate)."
   ]
  },
  {
   "attachments": {},
   "cell_type": "markdown",
   "id": "c4ea8b33",
   "metadata": {
    "slideshow": {
     "slide_type": "slide"
    }
   },
   "source": [
    "## How do people feel about the course?\n",
    "\n",
    "![title](img/course_sentiment.png)"
   ]
  },
  {
   "cell_type": "markdown",
   "id": "ee19c3ee",
   "metadata": {
    "slideshow": {
     "slide_type": "slide"
    }
   },
   "source": [
    "## How do people feel about the material?\n",
    "\n",
    "![title](img/course_difficulty.png)"
   ]
  },
  {
   "cell_type": "markdown",
   "id": "5ca87973",
   "metadata": {
    "slideshow": {
     "slide_type": "slide"
    }
   },
   "source": [
    "## Other questions:\n",
    "\n",
    "- Most (97.1%) said they'd recommend the course.\n",
    "- A majority (55%) said the pace was just right, with even distribution on either side (i.e., no bias towards \"too fast\" or \"too slow\").\n",
    "- Most (64%) felt very positively about section, with another 27.3% feeling decent about it.  \n"
   ]
  },
  {
   "cell_type": "markdown",
   "id": "5108ce5f",
   "metadata": {
    "slideshow": {
     "slide_type": "slide"
    }
   },
   "source": [
    "## Pt. 3: Qualitative assessments"
   ]
  },
  {
   "cell_type": "markdown",
   "id": "a2da1383",
   "metadata": {
    "slideshow": {
     "slide_type": "slide"
    }
   },
   "source": [
    "### Course length\n",
    "\n",
    "> I think this class may need to be longer. So instead of being 50 min long, perhaps it can be an hr and 30 min long or something similar. Maybe instead of meeting 3 times a week for 50 min, we could meet 2 times a week for an hr and some odd minutes like 30, or even 2 hrs. I think if the class is structured this way, it could help with the pace of the class. This way we have enough time to address any questions on things that were unclear while being able to fully cover a topic.\n",
    "\n",
    "**Response**: Good suggestion for future quarters––unfortunately class scheduling isn't up to me, but I can mention this to the registrar."
   ]
  },
  {
   "cell_type": "markdown",
   "id": "97a2ab60",
   "metadata": {
    "slideshow": {
     "slide_type": "slide"
    }
   },
   "source": [
    "### Lab difficulty + timing\n",
    "\n",
    "> i understand we are behind in lecture content, but there is always one section of the lab that I can't do before/during my lab because we haven't covered it yet, which is very frustrating and it makes me feel like I'm not really understanding the material enough even though I am up to date with lecture material. Also the worksheets are so hard why cant we have help?\n",
    "\n",
    "**Response (1)**: Totally fair––will make an effort to make sure lab material is better-timed with lecture material in future weeks. (E.g., Lab 6 will cover stuff from week 5, just \"harder\").\n",
    "\n",
    "**Response (2)**: Re: difficulty, must strike balance.\n",
    "- I'm happy with how well students are doing so far.\n",
    "- But we're also always available during office hours and over Piazza to offer guidance."
   ]
  },
  {
   "cell_type": "markdown",
   "id": "00b0e6f4",
   "metadata": {
    "slideshow": {
     "slide_type": "slide"
    }
   },
   "source": [
    "### Focusing in class\n",
    "\n",
    "> I noticed some people talk a lot during class so maybe...keeping the silence so others around could focus\n",
    "\n",
    "**Response**: Also fair!\n",
    "\n",
    "- If you have a question, please ask it.\n",
    "- As a student, I know it's sometimes hard to gauge volume––but talking can distract others (and me).  "
   ]
  },
  {
   "cell_type": "markdown",
   "id": "010bd9e8",
   "metadata": {
    "slideshow": {
     "slide_type": "slide"
    }
   },
   "source": [
    "### Positive feedback about flexibility\n",
    "\n",
    "> I love the flexibility and time we have to do each assignment. The pace is perfect, love it.\n",
    "\n",
    "> thank you for podcasting. really good for flexibility as I can go back to specific parts of lecture when I need\n",
    "\n",
    "**Response**: Good to know!"
   ]
  }
 ],
 "metadata": {
  "celltoolbar": "Slideshow",
  "kernelspec": {
   "display_name": "Python 3 (ipykernel)",
   "language": "python",
   "name": "python3"
  },
  "language_info": {
   "codemirror_mode": {
    "name": "ipython",
    "version": 3
   },
   "file_extension": ".py",
   "mimetype": "text/x-python",
   "name": "python",
   "nbconvert_exporter": "python",
   "pygments_lexer": "ipython3",
   "version": "3.9.12"
  }
 },
 "nbformat": 4,
 "nbformat_minor": 5
}
