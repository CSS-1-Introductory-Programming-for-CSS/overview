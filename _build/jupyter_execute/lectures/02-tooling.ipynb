{
 "cells": [
  {
   "cell_type": "markdown",
   "id": "97a9d550",
   "metadata": {
    "slideshow": {
     "slide_type": "slide"
    }
   },
   "source": [
    "# Tooling and Environment"
   ]
  },
  {
   "cell_type": "markdown",
   "id": "88a26306",
   "metadata": {
    "slideshow": {
     "slide_type": "slide"
    }
   },
   "source": [
    "## Goals of this lecture\n",
    "\n",
    "In this lecture, we'll discuss some of the key **software tools** we'll be using throughout the course.\n",
    "\n",
    "- [Jupyter notebooks](https://jupyter.org/).  \n",
    "- [Datahub](https://datahub.io/).  \n",
    "- [Anaconda](https://www.anaconda.com/products/distribution).  "
   ]
  },
  {
   "cell_type": "markdown",
   "id": "01c65202",
   "metadata": {
    "slideshow": {
     "slide_type": "slide"
    }
   },
   "source": [
    "## What is tooling, and why is it hard?  \n",
    "\n",
    "Often, one of the hardest things about learning programming is **tooling**. \n",
    "\n",
    "- There are tons of new tools you've never used before, and it can seem overwhelming.  \n",
    "- So if you *do* feel overwhelmed, you're not alone!  \n",
    "\n",
    "This means:\n",
    "\n",
    "- Don't hesitate to ask us for help.  \n",
    "\n"
   ]
  },
  {
   "cell_type": "code",
   "execution_count": null,
   "id": "37fd8a72",
   "metadata": {},
   "outputs": [],
   "source": []
  }
 ],
 "metadata": {
  "celltoolbar": "Slideshow",
  "kernelspec": {
   "display_name": "Python 3 (ipykernel)",
   "language": "python",
   "name": "python3"
  },
  "language_info": {
   "codemirror_mode": {
    "name": "ipython",
    "version": 3
   },
   "file_extension": ".py",
   "mimetype": "text/x-python",
   "name": "python",
   "nbconvert_exporter": "python",
   "pygments_lexer": "ipython3",
   "version": "3.9.12"
  }
 },
 "nbformat": 4,
 "nbformat_minor": 5
}