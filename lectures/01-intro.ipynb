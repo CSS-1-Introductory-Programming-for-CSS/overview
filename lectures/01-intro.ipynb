{
 "cells": [
  {
   "cell_type": "markdown",
   "id": "da20728b",
   "metadata": {
    "slideshow": {
     "slide_type": "slide"
    }
   },
   "source": [
    "# Introduction to CSS"
   ]
  },
  {
   "cell_type": "markdown",
   "id": "bb380eb4",
   "metadata": {
    "slideshow": {
     "slide_type": "slide"
    }
   },
   "source": [
    "## Goals of this lecture\n",
    "\n",
    "- Quick introductions/logistics.\n",
    "- Introduction to CSS: What is it and why does it matter?\n",
    "- Overview of course content."
   ]
  },
  {
   "cell_type": "markdown",
   "id": "f996a7f9",
   "metadata": {
    "slideshow": {
     "slide_type": "slide"
    }
   },
   "source": [
    "## Course Logistics: CSS 1\n",
    "\n",
    "**Teaching Team**:\n",
    "- Instructor: [Sean Trott](https://seantrott.github.io/): Assistant Teaching Professor in [Cognitive Science](https://cogsci.ucsd.edu/) and [CSS](https://css.ucsd.edu/).  \n",
    "- TAs: ... (**todo**)\n",
    "\n",
    "**When/Where?**:\n",
    "- Lecture: MWF 9-10 AM, Center 212 (also podcasted).  \n",
    "- Coding Lab Sections (ERCA 117): \n",
    "   - Tuesday, 12-1:50, 2-3:50\n",
    "   - Wednesday: 1-2:50\n",
    "   - Friday: 12:-1:50\n",
    "   \n",
    "**Course Website**.\n"
   ]
  },
  {
   "cell_type": "markdown",
   "id": "54c6a1f4",
   "metadata": {
    "slideshow": {
     "slide_type": "slide"
    }
   },
   "source": [
    "## What is CSS?\n",
    "\n",
    "In a nutshell, [Computational Social Science](https://en.wikipedia.org/wiki/Computational_social_science) focuses on **computational approaches** to **social science**.\n",
    "\n",
    "At UCSD, [Social Sciences](https://socialsciences.ucsd.edu/) encompasses many disciplines:\n",
    "\n",
    "- Economics.\n",
    "- Political Science.\n",
    "- Cognitive Science. \n",
    "- Urban Studies and Planning.\n",
    "\n",
    "And [many more](https://socialsciences.ucsd.edu/about/org-chart.html)!"
   ]
  },
  {
   "cell_type": "markdown",
   "id": "7667eb3b",
   "metadata": {
    "slideshow": {
     "slide_type": "slide"
    }
   },
   "source": [
    "### What is social science?\n",
    "\n",
    "**Social Science** refers to a domain of study: social phenomena.  \n",
    "\n",
    "- Encompasses many **scales**: human psychology, language, economic behavior, political systems.  \n",
    "- Can involve many **approaches**: qualitative interviews, statistical analysis, simulations.  "
   ]
  },
  {
   "cell_type": "markdown",
   "id": "de3e1d7c",
   "metadata": {
    "slideshow": {
     "slide_type": "slide"
    }
   },
   "source": [
    "### What is computation?\n",
    "\n",
    "[**Computation**](https://en.wikipedia.org/wiki/Computation) is *calculation* using well-defined steps, e.g., an *algorithm*.\n",
    "\n",
    "- A *computer* is anything that implements these well-defined steps.  \n",
    "- Historically, the term \"computer\" used to refer to *people*!\n",
    "\n",
    "A **programming language** is a way to get a computer to do these things for you.  \n",
    "\n",
    "- Can *automate* processes: speed things up!  \n",
    "- Can perform computations at *scale*.  \n",
    "- Can *share* with others.  "
   ]
  },
  {
   "cell_type": "markdown",
   "id": "325382bc",
   "metadata": {
    "slideshow": {
     "slide_type": "slide"
    }
   },
   "source": [
    "## CSS Inspirations\n",
    "\n",
    "- CSS often involves analysis of **large-scale datasets** using computational and statistical tools.  \n",
    "- A key part of this approach is **programming**, e.g., in Python.  \n",
    "- Can yield important theoretical and practical **insights**.  "
   ]
  },
  {
   "cell_type": "markdown",
   "id": "96f3a991",
   "metadata": {
    "slideshow": {
     "slide_type": "slide"
    }
   },
   "source": [
    "### Economic mobility\n",
    "\n",
    "Recent work by [Raj Chetty](https://rajchetty.com/) used a combination of **social network data** and **Census data** to demonstrate a link between:\n",
    "\n",
    "- The **Economic Connectedness** of a neighborhood.  \n",
    "- How much **Upward Mobility** exists in a neighborhood.\n",
    "\n",
    "![title](../img/lectures/intro/chetty_2022.png)"
   ]
  },
  {
   "cell_type": "markdown",
   "id": "92186fb2",
   "metadata": {
    "slideshow": {
     "slide_type": "slide"
    }
   },
   "source": [
    "### Policing and Racial Justice\n",
    "\n",
    "Work by [Dan Jurafsky and colleagues](https://www.pnas.org/doi/full/10.1073/pnas.1702413114#fig01) using **body-cam footage** has demonstrated racial disparities in how respectfully police officers speak to community members during routine traffic stops.\n",
    "\n",
    "![title](../img/lectures/intro/jurafsky_2017.png)"
   ]
  },
  {
   "cell_type": "markdown",
   "id": "3beb209a",
   "metadata": {
    "slideshow": {
     "slide_type": "slide"
    }
   },
   "source": [
    "## Course Overview\n",
    "\n",
    "The goal of this course is to teach you:\n",
    "\n",
    "- **Computational thinking**: how to approach problems and devise solutions from a computational perspective.  \n",
    "- **Python programming**: how to implement those solutions in the Python programming language. "
   ]
  },
  {
   "cell_type": "markdown",
   "id": "b5f332a5",
   "metadata": {
    "slideshow": {
     "slide_type": "slide"
    }
   },
   "source": [
    "### What is Python?\n",
    "\n",
    "- Python is a **programming language**. \n",
    "  - It's a way to \"do\" computation.  \n",
    "- Python is also an **ecosystem**.\n",
    "  - A particular computational approach with its own community and practices.  \n"
   ]
  },
  {
   "cell_type": "markdown",
   "id": "dc017eaa",
   "metadata": {
    "slideshow": {
     "slide_type": "slide"
    }
   },
   "source": [
    "### Why Python?\n",
    "\n",
    "- Many [open source](https://en.wikipedia.org/wiki/Open_source) packages for **scientific computing**.\n",
    "- Python is **widely used**. \n",
    "\n",
    "![title](../img/lectures/intro/python.png)"
   ]
  },
  {
   "cell_type": "markdown",
   "id": "a5e8ead9",
   "metadata": {
    "slideshow": {
     "slide_type": "slide"
    }
   },
   "source": [
    "### What does Python look like?\n",
    "\n"
   ]
  },
  {
   "cell_type": "code",
   "execution_count": null,
   "id": "cf9d1614",
   "metadata": {},
   "outputs": [],
   "source": []
  },
  {
   "cell_type": "markdown",
   "id": "6ad8869b",
   "metadata": {
    "slideshow": {
     "slide_type": "slide"
    }
   },
   "source": [
    "Outline:\n",
    "\n",
    "- What is CSS? \n",
    "- Inspirations:\n",
    " - Raj Chetty work\n",
    " - Work on Twitter and sentiment analysis. \n",
    " - Work on language models and historical bias, etc. (Jurafsky)  \n",
    " - Work on language evolution. \n",
    " ?\n",
    "- Course Overview"
   ]
  },
  {
   "cell_type": "code",
   "execution_count": null,
   "id": "98683f4a",
   "metadata": {},
   "outputs": [],
   "source": []
  }
 ],
 "metadata": {
  "celltoolbar": "Slideshow",
  "kernelspec": {
   "display_name": "Python 3 (ipykernel)",
   "language": "python",
   "name": "python3"
  },
  "language_info": {
   "codemirror_mode": {
    "name": "ipython",
    "version": 3
   },
   "file_extension": ".py",
   "mimetype": "text/x-python",
   "name": "python",
   "nbconvert_exporter": "python",
   "pygments_lexer": "ipython3",
   "version": "3.9.12"
  }
 },
 "nbformat": 4,
 "nbformat_minor": 5
}
